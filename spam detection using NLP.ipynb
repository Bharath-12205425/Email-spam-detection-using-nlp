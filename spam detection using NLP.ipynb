{
 "cells": [
  {
   "cell_type": "code",
   "execution_count": 5,
   "id": "77e36df8-7fa7-4a38-959a-5d0436a9e758",
   "metadata": {},
   "outputs": [
    {
     "name": "stderr",
     "output_type": "stream",
     "text": [
      "[nltk_data] Downloading package punkt to\n",
      "[nltk_data]     C:\\Users\\lbhar\\AppData\\Roaming\\nltk_data...\n",
      "[nltk_data]   Package punkt is already up-to-date!\n",
      "[nltk_data] Downloading package stopwords to\n",
      "[nltk_data]     C:\\Users\\lbhar\\AppData\\Roaming\\nltk_data...\n",
      "[nltk_data]   Package stopwords is already up-to-date!\n"
     ]
    },
    {
     "data": {
      "text/plain": [
       "True"
      ]
     },
     "execution_count": 5,
     "metadata": {},
     "output_type": "execute_result"
    }
   ],
   "source": [
    "import pandas as pd\n",
    "import numpy as np\n",
    "import matplotlib.pyplot as plt\n",
    "import seaborn as sns\n",
    "from sklearn.model_selection import train_test_split\n",
    "from sklearn.feature_extraction.text import TfidfVectorizer\n",
    "from sklearn.ensemble import GradientBoostingClassifier\n",
    "from sklearn.metrics import accuracy_score, confusion_matrix, roc_curve, auc, classification_report\n",
    "import nltk\n",
    "from nltk.corpus import stopwords\n",
    "from nltk.tokenize import word_tokenize\n",
    "from gensim.models import Word2Vec\n",
    "\n",
    "nltk.download('punkt')\n",
    "nltk.download('stopwords')\n"
   ]
  },
  {
   "cell_type": "code",
   "execution_count": 132,
   "id": "2fda9fea-e5e6-4940-ba74-fe3856e92503",
   "metadata": {},
   "outputs": [
    {
     "name": "stdout",
     "output_type": "stream",
     "text": [
      "Index(['Category', 'Message'], dtype='object')\n"
     ]
    },
    {
     "data": {
      "text/html": [
       "<div>\n",
       "<style scoped>\n",
       "    .dataframe tbody tr th:only-of-type {\n",
       "        vertical-align: middle;\n",
       "    }\n",
       "\n",
       "    .dataframe tbody tr th {\n",
       "        vertical-align: top;\n",
       "    }\n",
       "\n",
       "    .dataframe thead th {\n",
       "        text-align: right;\n",
       "    }\n",
       "</style>\n",
       "<table border=\"1\" class=\"dataframe\">\n",
       "  <thead>\n",
       "    <tr style=\"text-align: right;\">\n",
       "      <th></th>\n",
       "      <th>Category</th>\n",
       "      <th>Message</th>\n",
       "    </tr>\n",
       "  </thead>\n",
       "  <tbody>\n",
       "    <tr>\n",
       "      <th>0</th>\n",
       "      <td>ham</td>\n",
       "      <td>Go until jurong point, crazy.. Available only ...</td>\n",
       "    </tr>\n",
       "    <tr>\n",
       "      <th>1</th>\n",
       "      <td>ham</td>\n",
       "      <td>Ok lar... Joking wif u oni...</td>\n",
       "    </tr>\n",
       "    <tr>\n",
       "      <th>2</th>\n",
       "      <td>spam</td>\n",
       "      <td>Free entry in 2 a wkly comp to win FA Cup fina...</td>\n",
       "    </tr>\n",
       "    <tr>\n",
       "      <th>3</th>\n",
       "      <td>ham</td>\n",
       "      <td>U dun say so early hor... U c already then say...</td>\n",
       "    </tr>\n",
       "    <tr>\n",
       "      <th>4</th>\n",
       "      <td>ham</td>\n",
       "      <td>Nah I don't think he goes to usf, he lives aro...</td>\n",
       "    </tr>\n",
       "  </tbody>\n",
       "</table>\n",
       "</div>"
      ],
      "text/plain": [
       "  Category                                            Message\n",
       "0      ham  Go until jurong point, crazy.. Available only ...\n",
       "1      ham                      Ok lar... Joking wif u oni...\n",
       "2     spam  Free entry in 2 a wkly comp to win FA Cup fina...\n",
       "3      ham  U dun say so early hor... U c already then say...\n",
       "4      ham  Nah I don't think he goes to usf, he lives aro..."
      ]
     },
     "execution_count": 132,
     "metadata": {},
     "output_type": "execute_result"
    }
   ],
   "source": [
    "df=pd.read_csv(r\"C:\\Users\\lbhar\\Downloads\\spam.csv\")\n",
    "print(df.columns)\n",
    "df.head()"
   ]
  },
  {
   "cell_type": "code",
   "execution_count": 134,
   "id": "b4ad9764-2d17-4312-a6c2-4b14655c8559",
   "metadata": {},
   "outputs": [
    {
     "name": "stdout",
     "output_type": "stream",
     "text": [
      "['Category', 'Message']\n"
     ]
    }
   ],
   "source": [
    "print(df.columns.tolist())\n"
   ]
  },
  {
   "cell_type": "code",
   "execution_count": 136,
   "id": "364d79df-d347-4dc4-b09d-d72b30b582ce",
   "metadata": {
    "scrolled": true
   },
   "outputs": [
    {
     "name": "stdout",
     "output_type": "stream",
     "text": [
      "(5572, 2)\n",
      "  Category                                            Message\n",
      "0      ham  Go until jurong point, crazy.. Available only ...\n",
      "1      ham                      Ok lar... Joking wif u oni...\n",
      "2     spam  Free entry in 2 a wkly comp to win FA Cup fina...\n",
      "3      ham  U dun say so early hor... U c already then say...\n",
      "4      ham  Nah I don't think he goes to usf, he lives aro...\n"
     ]
    }
   ],
   "source": [
    "print(df.shape)\n",
    "print(df.head())\n"
   ]
  },
  {
   "cell_type": "code",
   "execution_count": 141,
   "id": "333b2364-18d9-42ec-abaa-62dd1cd7a146",
   "metadata": {},
   "outputs": [],
   "source": [
    "# Drop any rows with missing values\n",
    "df = df[['Category', 'Message']].dropna()\n",
    "\n",
    "# Rename for clarity\n",
    "df = df.rename(columns={'Category': 'label', 'Message': 'text'})\n",
    "\n",
    "# Map labels to 0 and 1\n",
    "df['label'] = df['label'].map({'ham': 0, 'spam': 1})\n",
    "\n",
    "# Drop any rows where label mapping failed\n",
    "df = df.dropna(subset=['label'])\n",
    "\n",
    "# (Optional) Clean text if needed\n",
    "# df['clean_text'] = df['text'].apply(your_cleaning_function)\n",
    "\n",
    "# If not cleaning, use original text for now\n",
    "df['clean_text'] = df['text']\n",
    "\n",
    "# Now split\n",
    "from sklearn.model_selection import train_test_split\n",
    "\n",
    "X_train, X_test, y_train, y_test = train_test_split(\n",
    "    df['clean_text'], df['label'], test_size=0.2, random_state=42\n",
    ")\n"
   ]
  },
  {
   "cell_type": "code",
   "execution_count": null,
   "id": "58d97c93-5761-48d0-8405-7ae1c6ba1b16",
   "metadata": {},
   "outputs": [],
   "source": []
  },
  {
   "cell_type": "code",
   "execution_count": 144,
   "id": "85aa6dd7-4ba5-4aaa-8fc0-398367d6b612",
   "metadata": {},
   "outputs": [],
   "source": [
    "def preprocess(text):\n",
    "    if not isinstance(text, str):\n",
    "        return None\n",
    "    tokens = word_tokenize(text.lower())\n",
    "    tokens = [word for word in tokens if word.isalpha() and word not in stopwords.words('english')]\n",
    "    return \" \".join(tokens) if tokens else None\n",
    "\n",
    "# Apply it to create 'clean_text'\n",
    "df['clean_text'] = df['text'].apply(preprocess)"
   ]
  },
  {
   "cell_type": "code",
   "execution_count": 146,
   "id": "0485333a-ca41-4975-a381-ba7e7d3003af",
   "metadata": {},
   "outputs": [
    {
     "name": "stdout",
     "output_type": "stream",
     "text": [
      "(5572, 3)\n",
      "   label                                               text  \\\n",
      "0      0  Go until jurong point, crazy.. Available only ...   \n",
      "1      0                      Ok lar... Joking wif u oni...   \n",
      "2      1  Free entry in 2 a wkly comp to win FA Cup fina...   \n",
      "3      0  U dun say so early hor... U c already then say...   \n",
      "4      0  Nah I don't think he goes to usf, he lives aro...   \n",
      "\n",
      "                                          clean_text  \n",
      "0  go jurong point crazy available bugis n great ...  \n",
      "1                            ok lar joking wif u oni  \n",
      "2  free entry wkly comp win fa cup final tkts may...  \n",
      "3                u dun say early hor u c already say  \n",
      "4             nah think goes usf lives around though  \n",
      "12\n",
      "['go jurong point crazy available bugis n great world la e buffet cine got amore wat'\n",
      " 'ok lar joking wif u oni'\n",
      " 'free entry wkly comp win fa cup final tkts may text fa receive entry question std txt rate c apply'\n",
      " ... 'pity mood suggestions'\n",
      " 'guy bitching acted like interested buying something else next week gave us free'\n",
      " 'rofl true name']\n"
     ]
    }
   ],
   "source": [
    "\n",
    "print(df.shape)\n",
    "print(df.head())\n",
    "print(df['clean_text'].isna().sum())\n",
    "print(df['clean_text'].unique())\n"
   ]
  },
  {
   "cell_type": "code",
   "execution_count": null,
   "id": "7c139968-2dab-4ec0-a870-c550ee8a8d31",
   "metadata": {},
   "outputs": [],
   "source": []
  },
  {
   "cell_type": "code",
   "execution_count": 149,
   "id": "56ad21d6-612a-4579-a34e-1f8857c0dd99",
   "metadata": {},
   "outputs": [],
   "source": [
    "X_train, X_test, y_train, y_test = train_test_split(df['clean_text'], df['label'], test_size=0.2, random_state=42)\n"
   ]
  },
  {
   "cell_type": "code",
   "execution_count": 151,
   "id": "85f5a22c-119e-474f-87b8-ccf87b8c2a4c",
   "metadata": {},
   "outputs": [],
   "source": [
    "df = df[df['clean_text'].notna()]\n"
   ]
  },
  {
   "cell_type": "code",
   "execution_count": 153,
   "id": "16c5d7cd-35b1-456c-9b64-95220096274f",
   "metadata": {},
   "outputs": [],
   "source": [
    "from sklearn.model_selection import train_test_split\n",
    "\n",
    "# Drop rows with missing clean_text\n",
    "df_cleaned = df[df['clean_text'].notna()]\n",
    "\n",
    "# Re-split\n",
    "X_train, X_test, y_train, y_test = train_test_split(\n",
    "    df_cleaned['clean_text'], df_cleaned['label'], test_size=0.2, random_state=42\n",
    ")\n"
   ]
  },
  {
   "cell_type": "markdown",
   "id": "86440080-96b5-4ebd-8ec4-0f8916778fec",
   "metadata": {},
   "source": [
    "# TF-IDF Vectorization & Gradient Boosting"
   ]
  },
  {
   "cell_type": "code",
   "execution_count": 156,
   "id": "b28cf778-3679-4df6-9779-afd5de6cf797",
   "metadata": {},
   "outputs": [
    {
     "name": "stdout",
     "output_type": "stream",
     "text": [
      "TF-IDF Accuracy: 0.9613309352517986\n",
      "              precision    recall  f1-score   support\n",
      "\n",
      "           0       0.96      1.00      0.98       951\n",
      "           1       0.98      0.75      0.85       161\n",
      "\n",
      "    accuracy                           0.96      1112\n",
      "   macro avg       0.97      0.87      0.91      1112\n",
      "weighted avg       0.96      0.96      0.96      1112\n",
      "\n"
     ]
    }
   ],
   "source": [
    "from sklearn.feature_extraction.text import TfidfVectorizer\n",
    "from sklearn.ensemble import GradientBoostingClassifier\n",
    "from sklearn.metrics import accuracy_score, classification_report\n",
    "\n",
    "vectorizer_tfidf = TfidfVectorizer()\n",
    "X_train_tfidf = vectorizer_tfidf.fit_transform(X_train)\n",
    "X_test_tfidf = vectorizer_tfidf.transform(X_test)\n",
    "\n",
    "model_tfidf = GradientBoostingClassifier()\n",
    "model_tfidf.fit(X_train_tfidf, y_train)\n",
    "\n",
    "y_pred_tfidf = model_tfidf.predict(X_test_tfidf)\n",
    "y_prob_tfidf = model_tfidf.predict_proba(X_test_tfidf)[:, 1]\n",
    "\n",
    "print(\"TF-IDF Accuracy:\", accuracy_score(y_test, y_pred_tfidf))\n",
    "print(classification_report(y_test, y_pred_tfidf))\n"
   ]
  },
  {
   "cell_type": "markdown",
   "id": "b2c3dd8d-e555-46a5-9210-23251c0c03e1",
   "metadata": {},
   "source": [
    "# TF-IDF Evaluation — Confusion Matrix & ROC"
   ]
  },
  {
   "cell_type": "code",
   "execution_count": 158,
   "id": "1049a5bf-418f-47e7-a64e-52bb6e5cab70",
   "metadata": {},
   "outputs": [
    {
     "data": {
      "image/png": "[encoded data removed]",
      "text/plain": [
       "<Figure size 640x480 with 2 Axes>"
      ]
     },
     "metadata": {},
     "output_type": "display_data"
    },
    {
     "data": {
      "image/png": "[encoded data removed]",
      "text/plain": [
       "<Figure size 640x480 with 1 Axes>"
      ]
     },
     "metadata": {},
     "output_type": "display_data"
    }
   ],
   "source": [
    "sns.heatmap(confusion_matrix(y_test, y_pred_tfidf), annot=True, fmt='d')\n",
    "plt.title(\"TF-IDF Confusion Matrix\")\n",
    "plt.show()\n",
    "\n",
    "fpr, tpr, _ = roc_curve(y_test, y_prob_tfidf)\n",
    "plt.plot(fpr, tpr, label=f'TF-IDF AUC = {auc(fpr, tpr):.2f}')\n",
    "plt.plot([0, 1], [0, 1], linestyle='--')\n",
    "plt.title(\"TF-IDF ROC Curve\")\n",
    "plt.xlabel(\"False Positive Rate\")\n",
    "plt.ylabel(\"True Positive Rate\")\n",
    "plt.legend()\n",
    "plt.show()\n"
   ]
  },
  {
   "cell_type": "code",
   "execution_count": 161,
   "id": "d5ce3e0f-e24f-4cd2-a841-ce2602ea637e",
   "metadata": {},
   "outputs": [
    {
     "name": "stdout",
     "output_type": "stream",
     "text": [
      "N-Gram Accuracy: 0.9496402877697842\n"
     ]
    }
   ],
   "source": [
    "vectorizer_ngram = TfidfVectorizer(ngram_range=(1,2))\n",
    "X_train_ngram = vectorizer_ngram.fit_transform(X_train)\n",
    "X_test_ngram = vectorizer_ngram.transform(X_test)\n",
    "\n",
    "model_ngram = GradientBoostingClassifier()\n",
    "model_ngram.fit(X_train_ngram, y_train)\n",
    "y_pred_ngram = model_ngram.predict(X_test_ngram)\n",
    "\n",
    "print(\"N-Gram Accuracy:\", accuracy_score(y_test, y_pred_ngram))\n"
   ]
  },
  {
   "cell_type": "code",
   "execution_count": 163,
   "id": "50a38f41-a786-408f-98d0-92dfd01e3c84",
   "metadata": {},
   "outputs": [
    {
     "name": "stdout",
     "output_type": "stream",
     "text": [
      "Word2Vec Accuracy: 0.9172661870503597\n"
     ]
    }
   ],
   "source": [
    "X_train_tokens = [text.split() for text in X_train]\n",
    "X_test_tokens = [text.split() for text in X_test]\n",
    "\n",
    "w2v_model = Word2Vec(sentences=X_train_tokens, vector_size=100, window=5, min_count=1, workers=4)\n",
    "\n",
    "def avg_vector(tokens, model):\n",
    "    valid_words = [model.wv[word] for word in tokens if word in model.wv]\n",
    "    return np.mean(valid_words, axis=0) if valid_words else np.zeros(model.vector_size)\n",
    "\n",
    "X_train_w2v = np.array([avg_vector(tokens, w2v_model) for tokens in X_train_tokens])\n",
    "X_test_w2v = np.array([avg_vector(tokens, w2v_model) for tokens in X_test_tokens])\n",
    "\n",
    "model_w2v = GradientBoostingClassifier()\n",
    "model_w2v.fit(X_train_w2v, y_train)\n",
    "y_pred_w2v = model_w2v.predict(X_test_w2v)\n",
    "\n",
    "print(\"Word2Vec Accuracy:\", accuracy_score(y_test, y_pred_w2v))\n"
   ]
  },
  {
   "cell_type": "code",
   "execution_count": 165,
   "id": "3d3520a8-5dac-4865-87ac-2cea52372afc",
   "metadata": {},
   "outputs": [
    {
     "name": "stdout",
     "output_type": "stream",
     "text": [
      "╒═══════════════╤════════════╕\n",
      "│ Vectorizer    │   Accuracy │\n",
      "╞═══════════════╪════════════╡\n",
      "│ TF-IDF        │   0.961331 │\n",
      "├───────────────┼────────────┤\n",
      "│ N-Gram TF-IDF │   0.94964  │\n",
      "├───────────────┼────────────┤\n",
      "│ Word2Vec      │   0.917266 │\n",
      "╘═══════════════╧════════════╛\n"
     ]
    }
   ],
   "source": [
    "from tabulate import tabulate\n",
    "\n",
    "data = {\n",
    "    'Vectorizer': ['TF-IDF', 'N-Gram TF-IDF', 'Word2Vec'],\n",
    "    'Accuracy': [\n",
    "        accuracy_score(y_test, y_pred_tfidf),\n",
    "        accuracy_score(y_test, y_pred_ngram),\n",
    "        accuracy_score(y_test, y_pred_w2v)\n",
    "    ]\n",
    "}\n",
    "print(tabulate(data, headers='keys', tablefmt='fancy_grid'))\n"
   ]
  },
  {
   "cell_type": "code",
   "execution_count": 167,
   "id": "8ba7e33d-406c-4e3a-9894-33c5198499d1",
   "metadata": {},
   "outputs": [
    {
     "name": "stdout",
     "output_type": "stream",
     "text": [
      "\n",
      "Conclusion:\n",
      "- TF-IDF and N-Gram TF-IDF perform very well and close in accuracy.\n",
      "- Word2Vec captures semantic meaning but may require more training data/tuning.\n",
      "- TF-IDF with Gradient Boosting had the best performance in this pipeline.\n",
      "- Future improvements could involve LSTM/BERT models or sentiment as additional features.\n",
      "\n"
     ]
    }
   ],
   "source": [
    "print(\"\"\"\n",
    "Conclusion:\n",
    "- TF-IDF and N-Gram TF-IDF perform very well and close in accuracy.\n",
    "- Word2Vec captures semantic meaning but may require more training data/tuning.\n",
    "- TF-IDF with Gradient Boosting had the best performance in this pipeline.\n",
    "- Future improvements could involve LSTM/BERT models or sentiment as additional features.\n",
    "\"\"\")\n"
   ]
  },
  {
   "cell_type": "code",
   "execution_count": null,
   "id": "ed21ad83-5aa0-474d-b57e-6e8a1b537c63",
   "metadata": {},
   "outputs": [],
   "source": []
  }
 ],
 "metadata": {
  "kernelspec": {
   "display_name": "Python [conda env:base] *",
   "language": "python",
   "name": "conda-base-py"
  },
  "language_info": {
   "codemirror_mode": {
    "name": "ipython",
    "version": 3
   },
   "file_extension": ".py",
   "mimetype": "text/x-python",
   "name": "python",
   "nbconvert_exporter": "python",
   "pygments_lexer": "ipython3",
   "version": "3.12.7"
  }
 },
 "nbformat": 4,
 "nbformat_minor": 5
}
